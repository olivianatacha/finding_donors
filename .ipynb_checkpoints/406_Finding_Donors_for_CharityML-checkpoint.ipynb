{
 "cells": [
  {
   "cell_type": "markdown",
   "metadata": {},
   "source": [
    "# Finding Donors for CharityML - 232\n",
    "\n",
    "\n",
    "\n",
    "\n"
   ]
  },
  {
   "cell_type": "markdown",
   "metadata": {},
   "source": [
    " "
   ]
  },
  {
   "cell_type": "markdown",
   "metadata": {},
   "source": [
    "# <span style=\"color:rgb(50,150,50)\">Exploring the Data</span> "
   ]
  },
  {
   "cell_type": "markdown",
   "metadata": {},
   "source": [
    "### <span style=\"color:rgb(50,50,50)\">Data Exploration</span> \n",
    "Student's implementation correctly calculates the following:\n",
    "\n",
    "- #### <span style=\"color:rgb(183,28,28)\"> Number of records.</span> \n",
    "- #### <span style=\"color:rgb(183,28,28)\"> Number of individuals with income less than 50,000 dollars. </span> \n",
    "- #### <span style=\"color:rgb(183,28,28)\"> Number of individuals with income less than or equal to 50,000 dollars.</span> \n",
    "- #### <span style=\"color:rgb(183,28,28)\"> Percentage of individuals with income greater than 50,000.</span> \n",
    "\n",
    "##### <span style=\"color:rgb(41,121,255)\">Meets Specification</span> \n",
    "<span style=\"color:rgb(50,50,50)\">Correct computation of numbers and statistics of individuals. </span>\n"
   ]
  },
  {
   "cell_type": "markdown",
   "metadata": {},
   "source": [
    "# <span style=\"color:rgb(50,150,50)\">Preparing the data</span> "
   ]
  },
  {
   "cell_type": "markdown",
   "metadata": {},
   "source": [
    "### <span style=\"color:rgb(50,50,50)\">Data Preprocessing </span> \n",
    "\n",
    "#### <span style=\"color:rgb(183,28,28)\">Student correctly implements one-hot encoding for the feature and income data.</span> \n",
    "```\n",
    "features = pd.get_dummies(features_raw)\n",
    "#features_raw = data.drop('income', axis = 1)\n",
    "\n",
    "# TODO: Encode the 'income_raw' data to numerical values\n",
    "#income = pd.get_dummies(income_raw)\n",
    "income = income_raw.map(lambda x: 0 if x == \"<=50K\" else 1)\n",
    "\n",
    "```\n",
    "##### <span style=\"color:rgb(41,121,255)\">Meets Specification</span> \n",
    "##### <span style=\"color:rgb(41,121,255)\">Suggestion</span> \n",
    "-Consideration should be given to eliminate the trail for income levels printed. \n",
    "\n",
    "```\n",
    "print income\n",
    "\n",
    "```"
   ]
  },
  {
   "cell_type": "markdown",
   "metadata": {},
   "source": [
    "# <span style=\"color:rgb(50,150,50)\">Evaluating model perfromance</span> "
   ]
  },
  {
   "cell_type": "markdown",
   "metadata": {},
   "source": [
    "\n",
    "### <span style=\"color:rgb(50,200,200)\">Question 1 </span> \t\n",
    "#### <span style=\"color:rgb(50,200,200)\">Naive predictor performance </span> \n",
    "\n",
    "\n",
    "### <span style=\"color:rgb(50,50,50)\">Student correctly calculates the benchmark score of the naive predictor for both accuracy and F1 scores.</span> \n",
    "\n",
    "##### <span style=\"color:rgb(41,121,255)\">Meets Specification</span> \n",
    "\n",
    "Great! Correct formulas and implementation of the naive predictor for accuracy and F1 scores in \n",
    "```\n",
    "# TODO: Calculate accuracy\n",
    "accuracy = greater_percent / 100.0\n",
    "\n",
    "# TODO: Calculate F-score using the formula above for beta = 0.5\n",
    "beta = 0.5\n",
    "recall = 1.0\n",
    "fscore = (1 + beta**2) * accuracy * recall / (beta**2 * accuracy + recall)\n",
    "\n",
    "```\n"
   ]
  },
  {
   "cell_type": "markdown",
   "metadata": {},
   "source": [
    "### <span style=\"color:rgb(50,200,200)\">Question 2 </span> \t\n",
    "#### <span style=\"color:rgb(50,50,50)\">Model Application </span> \n",
    "\n",
    "\n",
    "### <span style=\"color:rgb(50,50,50)\">The pros and cons or application for each model is provided with reasonable justification why each model was chosen to be explored.</span> \n",
    "\n",
    "##### <span style=\"color:rgb(250,50,50)\">Requires Changes</span>\n",
    "\n",
    "\n",
    "<span style=\"color:rgb(200,150, 80)\">Feedback:</span>Perfect selection of learning models. Impressive work done on strengths, weaknesses and real world application of models. \n",
    "\n",
    "##### <span style=\"color:rgb(250,50,50)\">Requires Changes</span>\n",
    "To meet specification, discuss the following for each chosen model;\n",
    "-The strengths of the model\n",
    "-The weaknesses of the model\n",
    "-Real world application of the  odel\n",
    "-Why this model is a good fit for this work given the nature of the dataset.\n",
    "\n",
    " "
   ]
  },
  {
   "cell_type": "markdown",
   "metadata": {},
   "source": [
    "### Creating a Training and Predicting Pipeline\n",
    "\t\n",
    "### <span style=\"color:rgb(50,50,50)\">Student successfully implements a pipeline in code that will train and predict on the supervised learning algorithm given.</span> \n",
    "\n",
    "##### <span style=\"color:rgb(41,121,255)\">Meets Specification</span> \n",
    "\n",
    "<span style=\"color:rgb(200,150, 80)\">Feedback:</span>\n",
    "The learner is carefully fitted to the learning data,and the training time correctly computed. The predictions on the test set, the prediction time accuracy on the test set, F-score on the training samples and the test set are accurately computed. \n",
    "\n",
    "Spot on implementation of creating a training and predicting pipeline!.\n",
    "\n",
    "   Excellent!"
   ]
  },
  {
   "cell_type": "markdown",
   "metadata": {},
   "source": [
    "### Initial Model Evaluation\n",
    "\t\n",
    "\t\n",
    "### <span style=\"color:rgb(50,50,50)\">Student correctly implements three supervised learning models and produces a performance visualization.\n",
    "</span> \n",
    "##### <span style=\"color:rgb(41,121,255)\">Meets Specification</span> \n",
    "\n",
    "\n",
    "<span style=\"color:rgb(200,150, 80)\">Feedback:</span>\n",
    "-Flawless implementation of the Support Vector Machines (SVM),Gaussian Naive Bayes (GaussianNB) and the Decision trees.\n",
    "-Exact realisation of 1%,10% and 100$ of trainig data. Out put depicted in. \n",
    "\n",
    "```\n",
    "\n",
    "\n",
    "\n",
    "GaussianNB trained on 361 samples.\n",
    "GaussianNB trained on 3617 samples.\n",
    "GaussianNB trained on 36177 samples.\n",
    "DecisionTreeClassifier trained on 361 samples.\n",
    "DecisionTreeClassifier trained on 3617 samples.\n",
    "DecisionTreeClassifier trained on 36177 samples.\n",
    "SVC trained on 361 samples.\n",
    "SVC trained on 3617 samples.\n",
    "\n",
    "\n",
    "\n",
    "```"
   ]
  },
  {
   "cell_type": "markdown",
   "metadata": {},
   "source": [
    "# <span style=\"color:rgb(50,150,50)\">Improving results</span> "
   ]
  },
  {
   "cell_type": "markdown",
   "metadata": {},
   "source": [
    "### <span style=\"color:rgb(50,200,200)\">Question 3 </span> \t\n",
    "#### <span style=\"color:rgb(50,50,50)\">Choosing the Best Model</span> \n",
    "\n",
    "\n",
    "### <span style=\"color:rgb(50,50,50)\">Justification is provided for which model appears to be the best to use given computational cost, model performance, and the characteristics of the data..</span> \n",
    "\n",
    "\n",
    "##### <span style=\"color:rgb(41,121,255)\">Meets Specification</span> \n",
    "\n",
    "<span style=\"color:rgb(200,150, 80)\">Feedback:</span> Veracious analysis of each model and a reasonable justification for the selection of the *Super Vector Machine * have been provided\n"
   ]
  },
  {
   "cell_type": "markdown",
   "metadata": {},
   "source": [
    "### <span style=\"color:rgb(50,200,200)\">Question 4 </span> \t\n",
    "#### <span style=\"color:rgb(50,50,50)\">Describing the Model in Layman's Terms </span> \n",
    "\n",
    "\n",
    "### <span style=\"color:rgb(50,50,50)\">Student is able to clearly and concisely describe how the optimal model works in layman's terms to someone who is not familiar with machine learning nor has a technical background.</span> \n",
    "\n",
    "##### <span style=\"color:rgb(41,121,255)\">Meets Specification</span> \n",
    "\n",
    "\n",
    "<span style=\"color:rgb(200,150, 80)\">Feedback:</span> The description is straighforward and makes use of elementary terms. Sensible approach to communicate to the non-technical mind. A+ Work! \n",
    "##### <span style=\"color:rgb(41,121,255)\">Suggestion</span> \n",
    "-Pay attention to punctuation and spellings, for example the use if \"i\" in place of I."
   ]
  },
  {
   "cell_type": "markdown",
   "metadata": {},
   "source": [
    " "
   ]
  },
  {
   "cell_type": "markdown",
   "metadata": {},
   "source": [
    "### <span style=\"color:rgb(50,50,50)\">Model Tuning</span> \n",
    "\n",
    "#### <span style=\"color:rgb(183,28,28)\">The final model chosen is correctly tuned using grid search with at least one parameter using at least three settings. If the model does not need any parameter tuning it is explicitly stated with reasonable justification.</span> \n",
    "\n",
    "##### <span style=\"color:rgb(41,121,255)\">Meets Specification</span> \n",
    "<span style=\"color:rgb(200,150, 80)\">Feedback:</span> Great job fine-tuning the linear regression model with grid search. All designated steps carefully followed."
   ]
  },
  {
   "cell_type": "markdown",
   "metadata": {},
   "source": [
    "### <span style=\"color:rgb(50,200,200)\">Question 5 </span> \t\n",
    "#### <span style=\"color:rgb(50,50,50)\">Final Model Evaluation </span> \n",
    "\n",
    "\n",
    "### <span style=\"color:rgb(50,50,50)\">Student reports the accuracy and F1 score of the optimized, unoptimized, and benchmark models correctly in the table provided. Student compares the final model results to previous results obtained.</span> \n",
    "\n",
    "##### <span style=\"color:rgb(41,121,255)\">Meets Specification</span>  \n",
    "\n",
    "<span style=\"color:rgb(200,150, 80)\">Feedback:</span>Excelleent examination of the the accuracy and F1 score for the optimised, unoptimised and benchmark models. Great analysis and justification for the different results obtained."
   ]
  },
  {
   "cell_type": "markdown",
   "metadata": {},
   "source": [
    "# <span style=\"color:rgb(50,150,50)\">Feature Importance</span> "
   ]
  },
  {
   "cell_type": "markdown",
   "metadata": {},
   "source": [
    "### <span style=\"color:rgb(50,200,200)\">Question 6 </span> \t\n",
    "#### <span style=\"color:rgb(50,50,50)\">Feature Relevance Observation</span> \n",
    "\n",
    "\n",
    "### <span style=\"color:rgb(50,50,50)\">Student ranks five features which they believe to be the most relevant for predicting an individual's’ income. Discussion is provided for why these features were chosen.</span> \n",
    "\n",
    "##### <span style=\"color:rgb(183,28,28)\">Requires Changes</span>  \n",
    "<span style=\"color:rgb(200,150, 80)\">Feedback:</span>\n",
    "Great job identifying the relevant features\n",
    "##### <span style=\"color:rgb(183,28,28)\">Amends required</span>  \n",
    "To meet specification,\n",
    "-Rank these features in order of importance.\n",
    "-For each feature, explain why you think it is important for predicting an individual's income."
   ]
  },
  {
   "cell_type": "markdown",
   "metadata": {},
   "source": [
    "### <span style=\"color:rgb(50,200,200)\">Question 7 </span> \t\n",
    "#### <span style=\"color:rgb(50,50,50)\">Extracting Feature Importances </span> \n",
    "\n",
    "\n",
    "#### <span style=\"color:rgb(50,50,50)\">Student correctly implements a supervised learning model that makes use of the feature_importances_ attribute. Additionally, student discusses the differences or similarities between the features they considered relevant and the reported relevant features.</span> \n",
    "\n",
    "##### <span style=\"color:rgb(41,121,255)\">Meets Specification</span>  \n"
   ]
  },
  {
   "cell_type": "markdown",
   "metadata": {},
   "source": [
    "### <span style=\"color:rgb(50,200,200)\">Question 8 </span> \t\n",
    "#### <span style=\"color:rgb(50,50,50)\">Effects of Feature Selection </span> \n",
    "\n",
    "\n",
    "### <span style=\"color:rgb(50,50,50)\">Student analyzes the final model's performance when only the top 5 features are used and compares this performance to the optimized model from Question 5.</span> \n",
    "\n",
    "##### <span style=\"color:rgb(183,28,28)\">Requires Changes</span>  \n",
    "\n",
    "##### <span style=\"color:rgb(183,28,28)\">Amends required</span>  \n",
    "To meet specification, answer the following question;\n",
    "-If training time was a factor, would you consider using the reduced data as your training set?\n",
    "\n",
    "##### <span style=\"color:rgb(183,28,28)\">Suggestion</span> \n",
    "-Providing the extent of the reduction or increase as a percentage will be a great.\n",
    "\n",
    "\n"
   ]
  },
  {
   "cell_type": "markdown",
   "metadata": {},
   "source": [
    " "
   ]
  },
  {
   "cell_type": "markdown",
   "metadata": {},
   "source": [
    " "
   ]
  },
  {
   "cell_type": "markdown",
   "metadata": {},
   "source": [
    " "
   ]
  },
  {
   "cell_type": "markdown",
   "metadata": {},
   "source": [
    "## <span style=\"color:rgb(41,121,255)\">Remarks:</span>\n",
    "\n",
    "Great work on first submission. \n",
    "Carefully make amends on the sections requiring changes and effect the next submission. With the few tweaks done, this work will be remarkable."
   ]
  },
  {
   "cell_type": "markdown",
   "metadata": {
    "collapsed": true
   },
   "source": []
  }
 ],
 "metadata": {
  "anaconda-cloud": {},
  "kernelspec": {
   "display_name": "Python [default]",
   "language": "python",
   "name": "python2"
  },
  "language_info": {
   "codemirror_mode": {
    "name": "ipython",
    "version": 2
   },
   "file_extension": ".py",
   "mimetype": "text/x-python",
   "name": "python",
   "nbconvert_exporter": "python",
   "pygments_lexer": "ipython2",
   "version": "2.7.12"
  }
 },
 "nbformat": 4,
 "nbformat_minor": 1
}
